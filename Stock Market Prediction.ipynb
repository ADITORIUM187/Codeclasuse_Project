{
 "cells": [
  {
   "cell_type": "markdown",
   "id": "3b5eda69",
   "metadata": {},
   "source": [
    "# Stock Market Prediction"
   ]
  },
  {
   "cell_type": "code",
   "execution_count": 1,
   "id": "9a120715",
   "metadata": {},
   "outputs": [],
   "source": [
    "import pandas as pd\n",
    "import matplotlib.pyplot as plt\n",
    "import numpy as np\n",
    "from sklearn import metrics\n",
    "%matplotlib inline\n",
    "\n"
   ]
  },
  {
   "cell_type": "code",
   "execution_count": 2,
   "id": "11a317b8",
   "metadata": {},
   "outputs": [],
   "source": [
    "dataset=pd.read_csv('TSLA.csv')\n"
   ]
  },
  {
   "cell_type": "code",
   "execution_count": 3,
   "id": "7c1a8ca0",
   "metadata": {},
   "outputs": [
    {
     "data": {
      "text/html": [
       "<div>\n",
       "<style scoped>\n",
       "    .dataframe tbody tr th:only-of-type {\n",
       "        vertical-align: middle;\n",
       "    }\n",
       "\n",
       "    .dataframe tbody tr th {\n",
       "        vertical-align: top;\n",
       "    }\n",
       "\n",
       "    .dataframe thead th {\n",
       "        text-align: right;\n",
       "    }\n",
       "</style>\n",
       "<table border=\"1\" class=\"dataframe\">\n",
       "  <thead>\n",
       "    <tr style=\"text-align: right;\">\n",
       "      <th></th>\n",
       "      <th>Date</th>\n",
       "      <th>Open</th>\n",
       "      <th>High</th>\n",
       "      <th>Low</th>\n",
       "      <th>Close</th>\n",
       "      <th>Adj Close</th>\n",
       "      <th>Volume</th>\n",
       "    </tr>\n",
       "  </thead>\n",
       "  <tbody>\n",
       "    <tr>\n",
       "      <th>0</th>\n",
       "      <td>2010-07-01</td>\n",
       "      <td>5.000</td>\n",
       "      <td>5.184</td>\n",
       "      <td>4.054</td>\n",
       "      <td>4.392</td>\n",
       "      <td>4.392</td>\n",
       "      <td>41094000</td>\n",
       "    </tr>\n",
       "    <tr>\n",
       "      <th>1</th>\n",
       "      <td>2010-07-02</td>\n",
       "      <td>4.600</td>\n",
       "      <td>4.620</td>\n",
       "      <td>3.742</td>\n",
       "      <td>3.840</td>\n",
       "      <td>3.840</td>\n",
       "      <td>25699000</td>\n",
       "    </tr>\n",
       "    <tr>\n",
       "      <th>2</th>\n",
       "      <td>2010-07-06</td>\n",
       "      <td>4.000</td>\n",
       "      <td>4.000</td>\n",
       "      <td>3.166</td>\n",
       "      <td>3.222</td>\n",
       "      <td>3.222</td>\n",
       "      <td>34334500</td>\n",
       "    </tr>\n",
       "    <tr>\n",
       "      <th>3</th>\n",
       "      <td>2010-07-07</td>\n",
       "      <td>3.280</td>\n",
       "      <td>3.326</td>\n",
       "      <td>2.996</td>\n",
       "      <td>3.160</td>\n",
       "      <td>3.160</td>\n",
       "      <td>34608500</td>\n",
       "    </tr>\n",
       "    <tr>\n",
       "      <th>4</th>\n",
       "      <td>2010-07-08</td>\n",
       "      <td>3.228</td>\n",
       "      <td>3.504</td>\n",
       "      <td>3.114</td>\n",
       "      <td>3.492</td>\n",
       "      <td>3.492</td>\n",
       "      <td>38557000</td>\n",
       "    </tr>\n",
       "  </tbody>\n",
       "</table>\n",
       "</div>"
      ],
      "text/plain": [
       "         Date   Open   High    Low  Close  Adj Close    Volume\n",
       "0  2010-07-01  5.000  5.184  4.054  4.392      4.392  41094000\n",
       "1  2010-07-02  4.600  4.620  3.742  3.840      3.840  25699000\n",
       "2  2010-07-06  4.000  4.000  3.166  3.222      3.222  34334500\n",
       "3  2010-07-07  3.280  3.326  2.996  3.160      3.160  34608500\n",
       "4  2010-07-08  3.228  3.504  3.114  3.492      3.492  38557000"
      ]
     },
     "execution_count": 3,
     "metadata": {},
     "output_type": "execute_result"
    }
   ],
   "source": [
    "dataset.head()\n"
   ]
  },
  {
   "cell_type": "code",
   "execution_count": 4,
   "id": "4e996e7d",
   "metadata": {},
   "outputs": [],
   "source": [
    "dataset['Date'] = pd.to_datetime(dataset.Date)\n"
   ]
  },
  {
   "cell_type": "code",
   "execution_count": 5,
   "id": "9750a9b9",
   "metadata": {},
   "outputs": [
    {
     "data": {
      "text/plain": [
       "(2843, 7)"
      ]
     },
     "execution_count": 5,
     "metadata": {},
     "output_type": "execute_result"
    }
   ],
   "source": [
    "dataset.shape"
   ]
  },
  {
   "cell_type": "code",
   "execution_count": 6,
   "id": "2efe2e11",
   "metadata": {},
   "outputs": [],
   "source": [
    "dataset.drop('Adj Close',axis = 1, inplace = True)"
   ]
  },
  {
   "cell_type": "code",
   "execution_count": 7,
   "id": "e6b19dca",
   "metadata": {},
   "outputs": [
    {
     "data": {
      "text/html": [
       "<div>\n",
       "<style scoped>\n",
       "    .dataframe tbody tr th:only-of-type {\n",
       "        vertical-align: middle;\n",
       "    }\n",
       "\n",
       "    .dataframe tbody tr th {\n",
       "        vertical-align: top;\n",
       "    }\n",
       "\n",
       "    .dataframe thead th {\n",
       "        text-align: right;\n",
       "    }\n",
       "</style>\n",
       "<table border=\"1\" class=\"dataframe\">\n",
       "  <thead>\n",
       "    <tr style=\"text-align: right;\">\n",
       "      <th></th>\n",
       "      <th>Date</th>\n",
       "      <th>Open</th>\n",
       "      <th>High</th>\n",
       "      <th>Low</th>\n",
       "      <th>Close</th>\n",
       "      <th>Volume</th>\n",
       "    </tr>\n",
       "  </thead>\n",
       "  <tbody>\n",
       "    <tr>\n",
       "      <th>0</th>\n",
       "      <td>2010-07-01</td>\n",
       "      <td>5.000</td>\n",
       "      <td>5.184</td>\n",
       "      <td>4.054</td>\n",
       "      <td>4.392</td>\n",
       "      <td>41094000</td>\n",
       "    </tr>\n",
       "    <tr>\n",
       "      <th>1</th>\n",
       "      <td>2010-07-02</td>\n",
       "      <td>4.600</td>\n",
       "      <td>4.620</td>\n",
       "      <td>3.742</td>\n",
       "      <td>3.840</td>\n",
       "      <td>25699000</td>\n",
       "    </tr>\n",
       "    <tr>\n",
       "      <th>2</th>\n",
       "      <td>2010-07-06</td>\n",
       "      <td>4.000</td>\n",
       "      <td>4.000</td>\n",
       "      <td>3.166</td>\n",
       "      <td>3.222</td>\n",
       "      <td>34334500</td>\n",
       "    </tr>\n",
       "    <tr>\n",
       "      <th>3</th>\n",
       "      <td>2010-07-07</td>\n",
       "      <td>3.280</td>\n",
       "      <td>3.326</td>\n",
       "      <td>2.996</td>\n",
       "      <td>3.160</td>\n",
       "      <td>34608500</td>\n",
       "    </tr>\n",
       "    <tr>\n",
       "      <th>4</th>\n",
       "      <td>2010-07-08</td>\n",
       "      <td>3.228</td>\n",
       "      <td>3.504</td>\n",
       "      <td>3.114</td>\n",
       "      <td>3.492</td>\n",
       "      <td>38557000</td>\n",
       "    </tr>\n",
       "  </tbody>\n",
       "</table>\n",
       "</div>"
      ],
      "text/plain": [
       "        Date   Open   High    Low  Close    Volume\n",
       "0 2010-07-01  5.000  5.184  4.054  4.392  41094000\n",
       "1 2010-07-02  4.600  4.620  3.742  3.840  25699000\n",
       "2 2010-07-06  4.000  4.000  3.166  3.222  34334500\n",
       "3 2010-07-07  3.280  3.326  2.996  3.160  34608500\n",
       "4 2010-07-08  3.228  3.504  3.114  3.492  38557000"
      ]
     },
     "execution_count": 7,
     "metadata": {},
     "output_type": "execute_result"
    }
   ],
   "source": [
    "dataset.head()"
   ]
  },
  {
   "cell_type": "code",
   "execution_count": 8,
   "id": "8df8239c",
   "metadata": {},
   "outputs": [
    {
     "data": {
      "text/plain": [
       "Date      0\n",
       "Open      0\n",
       "High      0\n",
       "Low       0\n",
       "Close     0\n",
       "Volume    0\n",
       "dtype: int64"
      ]
     },
     "execution_count": 8,
     "metadata": {},
     "output_type": "execute_result"
    }
   ],
   "source": [
    "dataset.isnull().sum()"
   ]
  },
  {
   "cell_type": "code",
   "execution_count": 9,
   "id": "6ba6e765",
   "metadata": {},
   "outputs": [
    {
     "name": "stdout",
     "output_type": "stream",
     "text": [
      "<class 'pandas.core.frame.DataFrame'>\n",
      "RangeIndex: 2843 entries, 0 to 2842\n",
      "Data columns (total 6 columns):\n",
      " #   Column  Non-Null Count  Dtype         \n",
      "---  ------  --------------  -----         \n",
      " 0   Date    2843 non-null   datetime64[ns]\n",
      " 1   Open    2843 non-null   float64       \n",
      " 2   High    2843 non-null   float64       \n",
      " 3   Low     2843 non-null   float64       \n",
      " 4   Close   2843 non-null   float64       \n",
      " 5   Volume  2843 non-null   int64         \n",
      "dtypes: datetime64[ns](1), float64(4), int64(1)\n",
      "memory usage: 133.4 KB\n"
     ]
    }
   ],
   "source": [
    "dataset.info()"
   ]
  },
  {
   "cell_type": "code",
   "execution_count": 10,
   "id": "87e09485",
   "metadata": {},
   "outputs": [
    {
     "data": {
      "text/html": [
       "<div>\n",
       "<style scoped>\n",
       "    .dataframe tbody tr th:only-of-type {\n",
       "        vertical-align: middle;\n",
       "    }\n",
       "\n",
       "    .dataframe tbody tr th {\n",
       "        vertical-align: top;\n",
       "    }\n",
       "\n",
       "    .dataframe thead th {\n",
       "        text-align: right;\n",
       "    }\n",
       "</style>\n",
       "<table border=\"1\" class=\"dataframe\">\n",
       "  <thead>\n",
       "    <tr style=\"text-align: right;\">\n",
       "      <th></th>\n",
       "      <th>Open</th>\n",
       "      <th>High</th>\n",
       "      <th>Low</th>\n",
       "      <th>Close</th>\n",
       "      <th>Volume</th>\n",
       "    </tr>\n",
       "  </thead>\n",
       "  <tbody>\n",
       "    <tr>\n",
       "      <th>count</th>\n",
       "      <td>2843.000000</td>\n",
       "      <td>2843.000000</td>\n",
       "      <td>2843.000000</td>\n",
       "      <td>2843.000000</td>\n",
       "      <td>2.843000e+03</td>\n",
       "    </tr>\n",
       "    <tr>\n",
       "      <th>mean</th>\n",
       "      <td>105.868475</td>\n",
       "      <td>108.031370</td>\n",
       "      <td>103.555733</td>\n",
       "      <td>105.924597</td>\n",
       "      <td>3.141524e+07</td>\n",
       "    </tr>\n",
       "    <tr>\n",
       "      <th>std</th>\n",
       "      <td>188.738974</td>\n",
       "      <td>192.483055</td>\n",
       "      <td>184.638617</td>\n",
       "      <td>188.836358</td>\n",
       "      <td>2.841880e+07</td>\n",
       "    </tr>\n",
       "    <tr>\n",
       "      <th>min</th>\n",
       "      <td>3.228000</td>\n",
       "      <td>3.326000</td>\n",
       "      <td>2.996000</td>\n",
       "      <td>3.160000</td>\n",
       "      <td>5.925000e+05</td>\n",
       "    </tr>\n",
       "    <tr>\n",
       "      <th>25%</th>\n",
       "      <td>10.698000</td>\n",
       "      <td>11.026000</td>\n",
       "      <td>10.420000</td>\n",
       "      <td>10.727000</td>\n",
       "      <td>1.251050e+07</td>\n",
       "    </tr>\n",
       "    <tr>\n",
       "      <th>50%</th>\n",
       "      <td>45.874001</td>\n",
       "      <td>46.493999</td>\n",
       "      <td>45.102001</td>\n",
       "      <td>45.916000</td>\n",
       "      <td>2.481500e+07</td>\n",
       "    </tr>\n",
       "    <tr>\n",
       "      <th>75%</th>\n",
       "      <td>65.021000</td>\n",
       "      <td>66.251999</td>\n",
       "      <td>64.015001</td>\n",
       "      <td>65.275002</td>\n",
       "      <td>4.012025e+07</td>\n",
       "    </tr>\n",
       "    <tr>\n",
       "      <th>max</th>\n",
       "      <td>891.380005</td>\n",
       "      <td>900.400024</td>\n",
       "      <td>871.599976</td>\n",
       "      <td>883.090027</td>\n",
       "      <td>3.046940e+08</td>\n",
       "    </tr>\n",
       "  </tbody>\n",
       "</table>\n",
       "</div>"
      ],
      "text/plain": [
       "              Open         High          Low        Close        Volume\n",
       "count  2843.000000  2843.000000  2843.000000  2843.000000  2.843000e+03\n",
       "mean    105.868475   108.031370   103.555733   105.924597  3.141524e+07\n",
       "std     188.738974   192.483055   184.638617   188.836358  2.841880e+07\n",
       "min       3.228000     3.326000     2.996000     3.160000  5.925000e+05\n",
       "25%      10.698000    11.026000    10.420000    10.727000  1.251050e+07\n",
       "50%      45.874001    46.493999    45.102001    45.916000  2.481500e+07\n",
       "75%      65.021000    66.251999    64.015001    65.275002  4.012025e+07\n",
       "max     891.380005   900.400024   871.599976   883.090027  3.046940e+08"
      ]
     },
     "execution_count": 10,
     "metadata": {},
     "output_type": "execute_result"
    }
   ],
   "source": [
    "dataset.describe()"
   ]
  },
  {
   "cell_type": "code",
   "execution_count": 11,
   "id": "a202ca9b",
   "metadata": {},
   "outputs": [
    {
     "name": "stdout",
     "output_type": "stream",
     "text": [
      "2843\n"
     ]
    }
   ],
   "source": [
    "print(len(dataset))"
   ]
  },
  {
   "cell_type": "code",
   "execution_count": 12,
   "id": "6e19076c",
   "metadata": {},
   "outputs": [
    {
     "data": {
      "text/plain": [
       "<AxesSubplot:>"
      ]
     },
     "execution_count": 12,
     "metadata": {},
     "output_type": "execute_result"
    },
    {
     "data": {
      "image/png": "[encoded data removed]",
      "text/plain": [
       "<Figure size 1152x432 with 1 Axes>"
      ]
     },
     "metadata": {
      "needs_background": "light"
     },
     "output_type": "display_data"
    }
   ],
   "source": [
    "dataset['Open'].plot(figsize=(16,6))\n"
   ]
  },
  {
   "cell_type": "code",
   "execution_count": 13,
   "id": "7705e7fd",
   "metadata": {},
   "outputs": [],
   "source": [
    "X  = dataset[['Open','High','Low','Volume']]\n",
    "y = dataset['Close']"
   ]
  },
  {
   "cell_type": "code",
   "execution_count": 15,
   "id": "c97233f7",
   "metadata": {},
   "outputs": [],
   "source": [
    "from sklearn.model_selection import train_test_split\n",
    "X_train , X_test , y_train , y_test = train_test_split(X ,y , random_state = 0)"
   ]
  },
  {
   "cell_type": "code",
   "execution_count": 16,
   "id": "a9f64431",
   "metadata": {},
   "outputs": [
    {
     "data": {
      "text/plain": [
       "(2132, 4)"
      ]
     },
     "execution_count": 16,
     "metadata": {},
     "output_type": "execute_result"
    }
   ],
   "source": [
    "X_train.shape\n"
   ]
  },
  {
   "cell_type": "code",
   "execution_count": 17,
   "id": "5f58121f",
   "metadata": {},
   "outputs": [
    {
     "data": {
      "text/plain": [
       "(711, 4)"
      ]
     },
     "execution_count": 17,
     "metadata": {},
     "output_type": "execute_result"
    }
   ],
   "source": [
    "X_test.shape"
   ]
  },
  {
   "cell_type": "code",
   "execution_count": 18,
   "id": "f3c7e364",
   "metadata": {},
   "outputs": [],
   "source": [
    "from sklearn.linear_model import LinearRegression\n",
    "from sklearn.metrics import confusion_matrix, accuracy_score\n",
    "regressor = LinearRegression()"
   ]
  },
  {
   "cell_type": "code",
   "execution_count": 19,
   "id": "c62d39af",
   "metadata": {},
   "outputs": [
    {
     "data": {
      "text/plain": [
       "LinearRegression()"
      ]
     },
     "execution_count": 19,
     "metadata": {},
     "output_type": "execute_result"
    }
   ],
   "source": [
    "regressor.fit(X_train,y_train)\n"
   ]
  },
  {
   "cell_type": "code",
   "execution_count": 20,
   "id": "953fef2f",
   "metadata": {},
   "outputs": [
    {
     "name": "stdout",
     "output_type": "stream",
     "text": [
      "[-6.08132311e-01  9.69397077e-01  6.33087614e-01 -4.49162474e-09]\n"
     ]
    }
   ],
   "source": [
    "print(regressor.coef_)\n"
   ]
  },
  {
   "cell_type": "code",
   "execution_count": 21,
   "id": "9d610030",
   "metadata": {},
   "outputs": [
    {
     "name": "stdout",
     "output_type": "stream",
     "text": [
      "[-6.08132311e-01  9.69397077e-01  6.33087614e-01 -4.49162474e-09]\n"
     ]
    }
   ],
   "source": [
    "print(regressor.coef_)\n"
   ]
  },
  {
   "cell_type": "code",
   "execution_count": 22,
   "id": "098afc34",
   "metadata": {},
   "outputs": [],
   "source": [
    "predicted=regressor.predict(X_test)\n"
   ]
  },
  {
   "cell_type": "code",
   "execution_count": 23,
   "id": "a9b7ef1b",
   "metadata": {},
   "outputs": [
    {
     "name": "stdout",
     "output_type": "stream",
     "text": [
      "            Open        High         Low    Volume\n",
      "898    35.032001   35.584000   32.942001  43582000\n",
      "1644   45.813999   45.995998   45.335999  18254000\n",
      "1917   63.226002   63.616001   61.250000  31139000\n",
      "104     7.082000    7.190000    6.666000   5728000\n",
      "2151   69.241997   70.300003   68.830002  18383500\n",
      "...          ...         ...         ...       ...\n",
      "2697  646.599976  657.229980  624.619995  42894000\n",
      "1715   61.599998   62.796001   61.172001  33688500\n",
      "2662  820.000000  848.000000  801.000000  26378000\n",
      "1122   41.858002   41.959999   40.534000  26091500\n",
      "2470  142.162003  146.145996  139.636002  66060000\n",
      "\n",
      "[711 rows x 4 columns]\n"
     ]
    }
   ],
   "source": [
    "print(X_test)"
   ]
  },
  {
   "cell_type": "code",
   "execution_count": 24,
   "id": "8f2b0456",
   "metadata": {},
   "outputs": [
    {
     "data": {
      "text/plain": [
       "(711,)"
      ]
     },
     "execution_count": 24,
     "metadata": {},
     "output_type": "execute_result"
    }
   ],
   "source": [
    "predicted.shape\n"
   ]
  },
  {
   "cell_type": "code",
   "execution_count": 25,
   "id": "e7a05033",
   "metadata": {},
   "outputs": [],
   "source": [
    "dframe=pd.DataFrame(y_test,predicted)\n"
   ]
  },
  {
   "cell_type": "code",
   "execution_count": 26,
   "id": "2adc7de4",
   "metadata": {},
   "outputs": [],
   "source": [
    "dfr=pd.DataFrame({'Actual':y_test,'Predicted':predicted})\n"
   ]
  },
  {
   "cell_type": "code",
   "execution_count": 27,
   "id": "fc728cdc",
   "metadata": {},
   "outputs": [
    {
     "name": "stdout",
     "output_type": "stream",
     "text": [
      "          Actual   Predicted\n",
      "898    33.924000   33.981978\n",
      "1644   45.945999   45.478708\n",
      "1917   63.146000   61.987768\n",
      "104     6.866000    6.989232\n",
      "2151   69.461998   69.664797\n",
      "...          ...         ...\n",
      "2697  654.869995  639.276627\n",
      "1715   62.757999   62.120856\n",
      "2662  835.429993  830.496550\n",
      "1122   40.807999   40.896703\n",
      "2470  145.029999  143.456926\n",
      "\n",
      "[711 rows x 2 columns]\n"
     ]
    }
   ],
   "source": [
    "print(dfr)\n"
   ]
  },
  {
   "cell_type": "code",
   "execution_count": 28,
   "id": "28860ac5",
   "metadata": {},
   "outputs": [
    {
     "data": {
      "text/html": [
       "<div>\n",
       "<style scoped>\n",
       "    .dataframe tbody tr th:only-of-type {\n",
       "        vertical-align: middle;\n",
       "    }\n",
       "\n",
       "    .dataframe tbody tr th {\n",
       "        vertical-align: top;\n",
       "    }\n",
       "\n",
       "    .dataframe thead th {\n",
       "        text-align: right;\n",
       "    }\n",
       "</style>\n",
       "<table border=\"1\" class=\"dataframe\">\n",
       "  <thead>\n",
       "    <tr style=\"text-align: right;\">\n",
       "      <th></th>\n",
       "      <th>Actual</th>\n",
       "      <th>Predicted</th>\n",
       "    </tr>\n",
       "  </thead>\n",
       "  <tbody>\n",
       "    <tr>\n",
       "      <th>898</th>\n",
       "      <td>33.924000</td>\n",
       "      <td>33.981978</td>\n",
       "    </tr>\n",
       "    <tr>\n",
       "      <th>1644</th>\n",
       "      <td>45.945999</td>\n",
       "      <td>45.478708</td>\n",
       "    </tr>\n",
       "    <tr>\n",
       "      <th>1917</th>\n",
       "      <td>63.146000</td>\n",
       "      <td>61.987768</td>\n",
       "    </tr>\n",
       "    <tr>\n",
       "      <th>104</th>\n",
       "      <td>6.866000</td>\n",
       "      <td>6.989232</td>\n",
       "    </tr>\n",
       "    <tr>\n",
       "      <th>2151</th>\n",
       "      <td>69.461998</td>\n",
       "      <td>69.664797</td>\n",
       "    </tr>\n",
       "    <tr>\n",
       "      <th>731</th>\n",
       "      <td>20.926001</td>\n",
       "      <td>20.569133</td>\n",
       "    </tr>\n",
       "    <tr>\n",
       "      <th>196</th>\n",
       "      <td>5.054000</td>\n",
       "      <td>5.193010</td>\n",
       "    </tr>\n",
       "    <tr>\n",
       "      <th>1421</th>\n",
       "      <td>35.799999</td>\n",
       "      <td>35.052323</td>\n",
       "    </tr>\n",
       "    <tr>\n",
       "      <th>1843</th>\n",
       "      <td>65.167999</td>\n",
       "      <td>65.389658</td>\n",
       "    </tr>\n",
       "    <tr>\n",
       "      <th>1713</th>\n",
       "      <td>61.119999</td>\n",
       "      <td>60.742239</td>\n",
       "    </tr>\n",
       "    <tr>\n",
       "      <th>1095</th>\n",
       "      <td>46.194000</td>\n",
       "      <td>46.600365</td>\n",
       "    </tr>\n",
       "    <tr>\n",
       "      <th>2148</th>\n",
       "      <td>66.879997</td>\n",
       "      <td>67.065269</td>\n",
       "    </tr>\n",
       "    <tr>\n",
       "      <th>33</th>\n",
       "      <td>3.754000</td>\n",
       "      <td>3.888643</td>\n",
       "    </tr>\n",
       "    <tr>\n",
       "      <th>156</th>\n",
       "      <td>4.650000</td>\n",
       "      <td>4.798803</td>\n",
       "    </tr>\n",
       "    <tr>\n",
       "      <th>2434</th>\n",
       "      <td>149.899994</td>\n",
       "      <td>147.251864</td>\n",
       "    </tr>\n",
       "    <tr>\n",
       "      <th>2559</th>\n",
       "      <td>498.320007</td>\n",
       "      <td>492.680683</td>\n",
       "    </tr>\n",
       "    <tr>\n",
       "      <th>1460</th>\n",
       "      <td>49.993999</td>\n",
       "      <td>49.820826</td>\n",
       "    </tr>\n",
       "    <tr>\n",
       "      <th>410</th>\n",
       "      <td>6.720000</td>\n",
       "      <td>6.801103</td>\n",
       "    </tr>\n",
       "    <tr>\n",
       "      <th>596</th>\n",
       "      <td>6.214000</td>\n",
       "      <td>6.345551</td>\n",
       "    </tr>\n",
       "    <tr>\n",
       "      <th>2097</th>\n",
       "      <td>66.970001</td>\n",
       "      <td>67.408813</td>\n",
       "    </tr>\n",
       "    <tr>\n",
       "      <th>1037</th>\n",
       "      <td>52.276001</td>\n",
       "      <td>51.580898</td>\n",
       "    </tr>\n",
       "    <tr>\n",
       "      <th>454</th>\n",
       "      <td>6.632000</td>\n",
       "      <td>6.727415</td>\n",
       "    </tr>\n",
       "    <tr>\n",
       "      <th>117</th>\n",
       "      <td>6.162000</td>\n",
       "      <td>6.212110</td>\n",
       "    </tr>\n",
       "    <tr>\n",
       "      <th>997</th>\n",
       "      <td>45.424000</td>\n",
       "      <td>45.373788</td>\n",
       "    </tr>\n",
       "    <tr>\n",
       "      <th>723</th>\n",
       "      <td>18.450001</td>\n",
       "      <td>17.772643</td>\n",
       "    </tr>\n",
       "  </tbody>\n",
       "</table>\n",
       "</div>"
      ],
      "text/plain": [
       "          Actual   Predicted\n",
       "898    33.924000   33.981978\n",
       "1644   45.945999   45.478708\n",
       "1917   63.146000   61.987768\n",
       "104     6.866000    6.989232\n",
       "2151   69.461998   69.664797\n",
       "731    20.926001   20.569133\n",
       "196     5.054000    5.193010\n",
       "1421   35.799999   35.052323\n",
       "1843   65.167999   65.389658\n",
       "1713   61.119999   60.742239\n",
       "1095   46.194000   46.600365\n",
       "2148   66.879997   67.065269\n",
       "33      3.754000    3.888643\n",
       "156     4.650000    4.798803\n",
       "2434  149.899994  147.251864\n",
       "2559  498.320007  492.680683\n",
       "1460   49.993999   49.820826\n",
       "410     6.720000    6.801103\n",
       "596     6.214000    6.345551\n",
       "2097   66.970001   67.408813\n",
       "1037   52.276001   51.580898\n",
       "454     6.632000    6.727415\n",
       "117     6.162000    6.212110\n",
       "997    45.424000   45.373788\n",
       "723    18.450001   17.772643"
      ]
     },
     "execution_count": 28,
     "metadata": {},
     "output_type": "execute_result"
    }
   ],
   "source": [
    "dfr.head(25)\n"
   ]
  },
  {
   "cell_type": "code",
   "execution_count": 29,
   "id": "9d8ddc51",
   "metadata": {},
   "outputs": [],
   "source": [
    "from sklearn.metrics import confusion_matrix, accuracy_score\n"
   ]
  },
  {
   "cell_type": "code",
   "execution_count": 30,
   "id": "5f1052b5",
   "metadata": {},
   "outputs": [
    {
     "data": {
      "text/plain": [
       "0.9998378944229679"
      ]
     },
     "execution_count": 30,
     "metadata": {},
     "output_type": "execute_result"
    }
   ],
   "source": [
    "regressor.score(X_test,y_test)\n"
   ]
  },
  {
   "cell_type": "code",
   "execution_count": 31,
   "id": "024db59b",
   "metadata": {},
   "outputs": [],
   "source": [
    "import math\n"
   ]
  },
  {
   "cell_type": "code",
   "execution_count": 32,
   "id": "beea83ff",
   "metadata": {},
   "outputs": [
    {
     "name": "stdout",
     "output_type": "stream",
     "text": [
      "Mean Absolute Error: 1.0525046567118528\n"
     ]
    }
   ],
   "source": [
    "print('Mean Absolute Error:',metrics.mean_absolute_error(y_test,predicted))\n"
   ]
  },
  {
   "cell_type": "code",
   "execution_count": 33,
   "id": "db3e3537",
   "metadata": {},
   "outputs": [
    {
     "name": "stdout",
     "output_type": "stream",
     "text": [
      "Mean Squared  Error: 6.815999211617752\n"
     ]
    }
   ],
   "source": [
    "print('Mean Squared  Error:',metrics.mean_squared_error(y_test,predicted))\n"
   ]
  },
  {
   "cell_type": "code",
   "execution_count": 34,
   "id": "ce905b05",
   "metadata": {},
   "outputs": [
    {
     "name": "stdout",
     "output_type": "stream",
     "text": [
      "Root Mean Squared Error: 2.6107468685450437\n"
     ]
    }
   ],
   "source": [
    "print('Root Mean Squared Error:',math.sqrt(metrics.mean_squared_error(y_test,predicted)))\n"
   ]
  },
  {
   "cell_type": "code",
   "execution_count": 35,
   "id": "278e1669",
   "metadata": {},
   "outputs": [],
   "source": [
    "graph=dfr.head(20)\n"
   ]
  },
  {
   "cell_type": "code",
   "execution_count": 36,
   "id": "71608a9e",
   "metadata": {},
   "outputs": [
    {
     "data": {
      "text/plain": [
       "<AxesSubplot:>"
      ]
     },
     "execution_count": 36,
     "metadata": {},
     "output_type": "execute_result"
    },
    {
     "data": {
      "image/png": "[encoded data removed]",
      "text/plain": [
       "<Figure size 432x288 with 1 Axes>"
      ]
     },
     "metadata": {
      "needs_background": "light"
     },
     "output_type": "display_data"
    }
   ],
   "source": [
    "graph.plot(kind='bar')\n"
   ]
  },
  {
   "cell_type": "code",
   "execution_count": null,
   "id": "1a1e586f",
   "metadata": {},
   "outputs": [],
   "source": []
  }
 ],
 "metadata": {
  "kernelspec": {
   "display_name": "Python 3 (ipykernel)",
   "language": "python",
   "name": "python3"
  },
  "language_info": {
   "codemirror_mode": {
    "name": "ipython",
    "version": 3
   },
   "file_extension": ".py",
   "mimetype": "text/x-python",
   "name": "python",
   "nbconvert_exporter": "python",
   "pygments_lexer": "ipython3",
   "version": "3.9.12"
  }
 },
 "nbformat": 4,
 "nbformat_minor": 5
}
